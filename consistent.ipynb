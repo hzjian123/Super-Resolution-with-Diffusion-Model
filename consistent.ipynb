{
 "cells": [
  {
   "cell_type": "code",
   "execution_count": 1,
   "metadata": {},
   "outputs": [
    {
     "name": "stderr",
     "output_type": "stream",
     "text": [
      "c:\\Users\\Eachann\\AppData\\Local\\Programs\\Python\\Python39\\lib\\site-packages\\tqdm\\auto.py:22: TqdmWarning: IProgress not found. Please update jupyter and ipywidgets. See https://ipywidgets.readthedocs.io/en/stable/user_install.html\n",
      "  from .autonotebook import tqdm as notebook_tqdm\n"
     ]
    }
   ],
   "source": [
    "import math\n",
    "import numpy as np\n",
    "from PIL import Image\n",
    "from math import log10, sqrt\n",
    "import os\n",
    "import cv2\n",
    "import torch\n",
    "from torchvision.transforms import functional as trans_fn\n",
    "import matplotlib.pyplot as plt\n",
    "# Path to the directory\n",
    "loc = \"cosine3/test\"\n",
    "path = \"experiments/\"+loc+\"/results/hr\"\n",
    "image_folder = path\n",
    "size = 16\n",
    "resample = Image.Resampling.BICUBIC\n",
    "def img2array(image_folder):\n",
    "    # Get all image file names in the folder\n",
    "    image_files = os.listdir(image_folder)\n",
    "    # List to store all image tensors\n",
    "    images = []\n",
    "    for image_file in image_files:\n",
    "        # Build complete image path\n",
    "        image_path = os.path.join(image_folder, image_file)\n",
    "        \n",
    "        # Read the image using OpenCV\n",
    "        img = cv2.imread(image_path)\n",
    "        #print(\"IMG\",img.shape)\n",
    "        # Convert the image from BGR to RGB\n",
    "        img = cv2.cvtColor(img, cv2.COLOR_BGR2RGB)\n",
    "\n",
    "        # Convert the numpy array to torch tensor and add channel dimension\n",
    "        img_tensor = torch.from_numpy(img.transpose(2, 0, 1))\n",
    "        img_tensor = trans_fn.resize(img_tensor, size, resample).numpy()\n",
    "        # Add the image tensor to the list\n",
    "        images.append(img_tensor)\n",
    "\n",
    "    # Stack all image tensors together along a new dimension\n",
    "    images_tensor = np.stack(images)\n",
    "    return images_tensor"
   ]
  },
  {
   "cell_type": "code",
   "execution_count": 2,
   "metadata": {},
   "outputs": [
    {
     "name": "stdout",
     "output_type": "stream",
     "text": [
      "(11, 3, 16, 16)\n"
     ]
    },
    {
     "name": "stderr",
     "output_type": "stream",
     "text": [
      "c:\\Users\\Eachann\\AppData\\Local\\Programs\\Python\\Python39\\lib\\site-packages\\torchvision\\transforms\\functional.py:423: UserWarning: Argument interpolation should be of type InterpolationMode instead of int. Please, use InterpolationMode enum.\n",
      "  warnings.warn(\n"
     ]
    },
    {
     "data": {
      "text/plain": [
       "<matplotlib.image.AxesImage at 0x2d9058b4b50>"
      ]
     },
     "execution_count": 2,
     "metadata": {},
     "output_type": "execute_result"
    },
    {
     "data": {
      "image/png": "[encoded data removed]",
      "text/plain": [
       "<Figure size 432x288 with 1 Axes>"
      ]
     },
     "metadata": {
      "needs_background": "light"
     },
     "output_type": "display_data"
    }
   ],
   "source": [
    "ind = 2\n",
    "images_tensor = img2array(image_folder)\n",
    "print(images_tensor.shape)\n",
    "plt.imshow(images_tensor[ind].transpose(1, 2, 0))"
   ]
  },
  {
   "cell_type": "code",
   "execution_count": 3,
   "metadata": {},
   "outputs": [
    {
     "name": "stdout",
     "output_type": "stream",
     "text": [
      "(11, 3, 16, 16)\n"
     ]
    },
    {
     "data": {
      "text/plain": [
       "<matplotlib.image.AxesImage at 0x2d908989fd0>"
      ]
     },
     "execution_count": 3,
     "metadata": {},
     "output_type": "execute_result"
    },
    {
     "data": {
      "image/png": "[encoded data removed]",
      "text/plain": [
       "<Figure size 432x288 with 1 Axes>"
      ]
     },
     "metadata": {
      "needs_background": "light"
     },
     "output_type": "display_data"
    }
   ],
   "source": [
    "image_folder2 =  \"experiments/\"+loc+\"/results/sr\"\n",
    "images_tensor2 = img2array(image_folder2)\n",
    "print(images_tensor2.shape)\n",
    "plt.imshow(images_tensor2[ind].transpose(1, 2, 0))"
   ]
  },
  {
   "cell_type": "code",
   "execution_count": 4,
   "metadata": {},
   "outputs": [],
   "source": [
    "def resize(img,size,resample):\n",
    "        img = trans_fn.resize(img, size, resample)\n",
    "        return img\n",
    "# Open the image form working directory\n",
    "def calculate_consistency(img1, img2):\n",
    "        return"
   ]
  },
  {
   "cell_type": "code",
   "execution_count": 5,
   "metadata": {},
   "outputs": [
    {
     "name": "stdout",
     "output_type": "stream",
     "text": [
      "53.300662878787875\n"
     ]
    }
   ],
   "source": [
    "mse = ((images_tensor - images_tensor2)**2).mean()\n",
    "print(mse)\n",
    "#plt.imshow(mse[ind].transpose(1, 2, 0))\n",
    "#plt.show()"
   ]
  }
 ],
 "metadata": {
  "kernelspec": {
   "display_name": "Python 3",
   "language": "python",
   "name": "python3"
  },
  "language_info": {
   "codemirror_mode": {
    "name": "ipython",
    "version": 3
   },
   "file_extension": ".py",
   "mimetype": "text/x-python",
   "name": "python",
   "nbconvert_exporter": "python",
   "pygments_lexer": "ipython3",
   "version": "3.9.0"
  },
  "orig_nbformat": 4
 },
 "nbformat": 4,
 "nbformat_minor": 2
}

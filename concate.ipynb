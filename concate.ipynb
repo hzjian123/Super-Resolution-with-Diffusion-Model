{
 "cells": [
  {
   "cell_type": "code",
   "execution_count": 7,
   "metadata": {},
   "outputs": [],
   "source": [
    "from PIL import Image\n",
    "import os\n",
    "\n",
    "# Directory containing images\n",
    "folder = \"tb\"\n",
    "dir_path = 'disp/'+folder\n",
    "\n",
    "# Get list of image file names\n",
    "image_files = [f for f in os.listdir(dir_path) if os.path.isfile(os.path.join(dir_path, f))]\n",
    "\n",
    "# Load images\n",
    "images = [Image.open(os.path.join(dir_path, f)) for f in image_files]\n",
    "\n",
    "# Resize images to 128x128\n",
    "images = [img.resize((128, 128)) for img in images]\n",
    "\n",
    "# Concatenate images along the X-axis\n",
    "concatenated_img = Image.new('RGB', (len(images)*128, 128))  # create a new blank (black) image\n",
    "for i, img in enumerate(images):\n",
    "    concatenated_img.paste(img, (i*128, 0))\n",
    "\n",
    "# Save the result\n",
    "concatenated_img.save('disp/'+folder+'/con.jpg')"
   ]
  }
 ],
 "metadata": {
  "kernelspec": {
   "display_name": "Python 3",
   "language": "python",
   "name": "python3"
  },
  "language_info": {
   "codemirror_mode": {
    "name": "ipython",
    "version": 3
   },
   "file_extension": ".py",
   "mimetype": "text/x-python",
   "name": "python",
   "nbconvert_exporter": "python",
   "pygments_lexer": "ipython3",
   "version": "3.9.0"
  },
  "orig_nbformat": 4
 },
 "nbformat": 4,
 "nbformat_minor": 2
}
